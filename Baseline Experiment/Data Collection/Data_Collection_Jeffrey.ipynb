{
  "nbformat": 4,
  "nbformat_minor": 0,
  "metadata": {
    "colab": {
      "provenance": []
    },
    "kernelspec": {
      "name": "python3",
      "display_name": "Python 3"
    },
    "language_info": {
      "name": "python"
    }
  },
  "cells": [
    {
      "cell_type": "code",
      "source": [
        "import pandas as pd\n",
        "import random"
      ],
      "metadata": {
        "id": "3hkH1KuzXkav"
      },
      "execution_count": null,
      "outputs": []
    },
    {
      "cell_type": "code",
      "execution_count": null,
      "metadata": {
        "id": "II4lSabcXNpo"
      },
      "outputs": [],
      "source": [
        "# Define categories and templates for prompts and responses\n",
        "data_templates = {\n",
        "    \"Prerequisites\": [\n",
        "        (\"What are the prerequisites for {course}?\", \"You need to complete {course1} and {course2}.\"),\n",
        "        (\"Can I take {course} without {course1}?\", \"No, you need to complete {course1} first.\"),\n",
        "        (\"Are there prerequisites for {course}?\", \"Yes, you need to complete {course1} and {course2}.\")\n",
        "    ],\n",
        "    \"Graduation Requirements\": [\n",
        "        (\"How many credits do I need to graduate?\", \"You need a total of {credits} credits.\"),\n",
        "        (\"What are the core requirements for graduation?\", \"You must complete core courses in Math, Science, and English.\"),\n",
        "        (\"Do I need elective credits to graduate?\", \"Yes, you need at least {elective_credits} elective credits.\")\n",
        "    ],\n",
        "    \"Academic Support\": [\n",
        "        (\"Where can I find tutoring services?\", \"Tutoring services are available at the Academic Resource Center.\"),\n",
        "        (\"Is there a study group for {course}?\", \"Yes, check the bulletin board for study group information for {course}.\"),\n",
        "        (\"How can I get help with assignments?\", \"You can get help from tutors and your course TA.\")\n",
        "    ],\n",
        "    \"Course Scheduling\": [\n",
        "        (\"When is {course} offered?\", \"{course} is offered every {semester}.\"),\n",
        "        (\"Are summer courses available?\", \"Yes, summer courses are available for selected subjects.\"),\n",
        "        (\"How do I register for next semester?\", \"You can register through the online portal starting in October.\")\n",
        "    ],\n",
        "    \"Changing Major\": [\n",
        "        (\"How can I change my major?\", \"Meet with an academic advisor to discuss changing your major.\"),\n",
        "        (\"What are the steps to change my major?\", \"Fill out a change of major form and get approval from your advisor.\"),\n",
        "        (\"Can I switch to a double major?\", \"Yes, you can discuss this option with your advisor.\")\n",
        "    ],\n",
        "    \"Academic Policies\": [\n",
        "        (\"What is the grading scale?\", \"The grading scale is A, B, C, D, and F.\"),\n",
        "        (\"What happens if I fail a course?\", \"You should meet with your advisor to discuss options.\"),\n",
        "        (\"Can I retake a course for a better grade?\", \"Yes, you can retake a course, and the new grade will replace the old one.\")\n",
        "    ],\n",
        "    \"Capstone Requirements\": [\n",
        "        (\"When should I take the capstone course?\", \"The capstone course should be taken in your final semester.\"),\n",
        "        (\"What is required for the capstone project?\", \"The capstone project requires a comprehensive research or practical project.\"),\n",
        "        (\"Is there a prerequisite for the capstone course?\", \"Yes, you need to complete all core courses before the capstone.\")\n",
        "    ]\n",
        "}"
      ]
    },
    {
      "cell_type": "code",
      "source": [
        "# Generate random values\n",
        "def random_course_code():\n",
        "    return f\"CS{random.randint(100, 499)}\"\n",
        "\n",
        "def random_credits():\n",
        "    return random.choice([120, 130, 140])\n",
        "\n",
        "def random_semester():\n",
        "    return random.choice([\"Fall\", \"Spring\", \"Fall and Spring\"])"
      ],
      "metadata": {
        "id": "nX2suXO6XnWI"
      },
      "execution_count": null,
      "outputs": []
    },
    {
      "cell_type": "code",
      "source": [
        "num_samples = 10000\n",
        "rows = []\n",
        "\n",
        "for _ in range(num_samples):\n",
        "    category = random.choice(list(data_templates.keys()))\n",
        "    query_template, response_template = random.choice(data_templates[category])\n",
        "\n",
        "    course = random_course_code()\n",
        "    course1 = random_course_code()\n",
        "    course2 = random_course_code()\n",
        "    credits = random_credits()\n",
        "    elective_credits = random.choice([20, 30, 40])\n",
        "    semester = random_semester()\n",
        "\n",
        "    query = query_template.format(\n",
        "        course=course,\n",
        "        course1=course1,\n",
        "        course2=course2,\n",
        "        credits=credits,\n",
        "        elective_credits=elective_credits,\n",
        "        semester=semester\n",
        "    )\n",
        "    response = response_template.format(\n",
        "        course=course,\n",
        "        course1=course1,\n",
        "        course2=course2,\n",
        "        credits=credits,\n",
        "        elective_credits=elective_credits,\n",
        "        semester=semester\n",
        "    )\n",
        "\n",
        "    rows.append((query, response, category))\n",
        "\n",
        "df = pd.DataFrame(rows, columns=[\"Prompt\", \"Response\", \"Category\"])\n",
        "\n",
        "output_path = \"academic_advising_data.csv\"\n",
        "df.to_csv(output_path, index=False)"
      ],
      "metadata": {
        "id": "vYfwpZGeXroV"
      },
      "execution_count": null,
      "outputs": []
    },
    {
      "cell_type": "code",
      "source": [
        "output_path"
      ],
      "metadata": {
        "id": "93UMwrAKXuIG"
      },
      "execution_count": null,
      "outputs": []
    }
  ]
}